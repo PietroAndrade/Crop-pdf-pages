{
 "cells": [
  {
   "cell_type": "code",
   "execution_count": 68,
   "metadata": {},
   "outputs": [],
   "source": [
    "from PyPDF2 import PdfWriter, PdfReader\n",
    "\n",
    "reader = PdfReader(\"example.pdf\")\n",
    "writer = PdfWriter()"
   ]
  },
  {
   "cell_type": "code",
   "execution_count": 69,
   "metadata": {},
   "outputs": [
    {
     "name": "stdout",
     "output_type": "stream",
     "text": [
      "(595.22, 842)\n",
      "(595.22, 0)\n",
      "(0, 842)\n",
      "(0, 0)\n"
     ]
    }
   ],
   "source": [
    "page = reader.pages[2]\n",
    "print(page.cropbox.upper_right)\n",
    "print(page.cropbox.lower_right)\n",
    "print(page.cropbox.upper_left)\n",
    "print(page.cropbox.lower_left)"
   ]
  },
  {
   "cell_type": "code",
   "execution_count": 74,
   "metadata": {},
   "outputs": [
    {
     "name": "stdout",
     "output_type": "stream",
     "text": [
      "595.220000000000027284841053187847137451171875,842\n",
      "595.220000000000027284841053187847137451171875,421\n",
      "0,842\n",
      "0,421\n"
     ]
    }
   ],
   "source": [
    "yx = page.cropbox.upper_right\n",
    "y_upper_right = yx[0]\n",
    "x_upper_right = yx[1]\n",
    "print(f'{y_upper_right},{x_upper_right}')\n",
    "\n",
    "x0y = page.cropbox.lower_right\n",
    "y_lower_right = x0y[0]\n",
    "x0_lower_right = x0y[1]\n",
    "print(f'{y_lower_right},{x0_lower_right}')\n",
    "\n",
    "xy0 = page.cropbox.upper_left\n",
    "y0_upper_left = xy0[0]\n",
    "x_upper_left = xy0[1]\n",
    "print(f'{y0_upper_left},{x_upper_left}')\n",
    "\n",
    "xy00 = page.cropbox.lower_left\n",
    "y0_lower_left = xy00[0]\n",
    "x0_lower_left = xy00[1]\n",
    "print(f'{y0_lower_left},{x0_lower_left}')\n"
   ]
  },
  {
   "cell_type": "code",
   "execution_count": null,
   "metadata": {},
   "outputs": [],
   "source": [
    "\n",
    "y_upper_right = 0\n",
    "x_upper_right = 0\n",
    "y_lower_right = 0\n",
    "x0_lower_right = 0\n",
    "y0_upper_left = 0\n",
    "x_upper_left = 0\n",
    "y0_lower_left = 0\n",
    "x0_lower_left = 0\n"
   ]
  },
  {
   "cell_type": "code",
   "execution_count": null,
   "metadata": {},
   "outputs": [],
   "source": [
    "def eval_sizes(reder_to_eval):\n",
    "    yx = reder_to_eval.cropbox.upper_right\n",
    "    y_upper_right = yx[0]\n",
    "    x_upper_right = yx[1]\n",
    "    print(f'{y_upper_right},{x_upper_right}')\n",
    "\n",
    "    x0y = reder_to_eval.cropbox.lower_right\n",
    "    y_lower_right = x0y[0]\n",
    "    x0_lower_right = x0y[1]\n",
    "    print(f'{y_lower_right},{x0_lower_right}')\n",
    "\n",
    "    xy0 = reder_to_eval.cropbox.upper_left\n",
    "    y0_upper_left = xy0[0]\n",
    "    x_upper_left = xy0[1]\n",
    "    print(f'{y0_upper_left},{x_upper_left}')\n",
    "\n",
    "    xy00 = reder_to_eval.cropbox.lower_left\n",
    "    y0_lower_left = xy00[0]\n",
    "    x0_lower_left = xy00[1]\n",
    "    print(f'{y0_lower_left},{x0_lower_left}')"
   ]
  },
  {
   "cell_type": "code",
   "execution_count": 71,
   "metadata": {},
   "outputs": [],
   "source": [
    "lowerLeft = 842/2"
   ]
  },
  {
   "cell_type": "code",
   "execution_count": 72,
   "metadata": {},
   "outputs": [],
   "source": [
    "page.cropbox.lower_left = (lowerLeft, 0)\n",
    "page.cropbox.upper_right = (595.22, 842)"
   ]
  },
  {
   "cell_type": "code",
   "execution_count": 73,
   "metadata": {},
   "outputs": [],
   "source": [
    "def crop_sides(page_to_crop, side='right'):\n",
    "\n",
    "    if(side == 'right'):\n",
    "        page_to_crop.cropbox.lower_left = (0, 0)\n",
    "        page_to_crop.cropbox.upper_right = (595.22, lowerLeft)\n",
    "        writer.add_page(page_to_crop)\n",
    "    elif(side == 'left'):\n",
    "        each_page.cropbox.lower_left = (0, lowerLeft)\n",
    "        each_page.cropbox.upper_right = (595.22, 842)\n",
    "        writer.add_page(each_page)\n",
    "\n",
    "for each_page in reader.pages:\n",
    "    crop_sides(each_page, 'right')\n",
    "    crop_sides(each_page, 'left')\n"
   ]
  },
  {
   "cell_type": "code",
   "execution_count": null,
   "metadata": {},
   "outputs": [],
   "source": []
  },
  {
   "cell_type": "code",
   "execution_count": null,
   "metadata": {},
   "outputs": [],
   "source": []
  }
 ],
 "metadata": {
  "kernelspec": {
   "display_name": "python2pdf",
   "language": "python",
   "name": "python3"
  },
  "language_info": {
   "codemirror_mode": {
    "name": "ipython",
    "version": 3
   },
   "file_extension": ".py",
   "mimetype": "text/x-python",
   "name": "python",
   "nbconvert_exporter": "python",
   "pygments_lexer": "ipython3",
   "version": "3.10.5"
  },
  "orig_nbformat": 4
 },
 "nbformat": 4,
 "nbformat_minor": 2
}
